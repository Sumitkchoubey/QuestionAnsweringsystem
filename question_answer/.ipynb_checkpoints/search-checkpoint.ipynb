{
 "cells": [
  {
   "cell_type": "code",
   "execution_count": 1,
   "metadata": {},
   "outputs": [],
   "source": [
    "import pandas as pd \n",
    "import re"
   ]
  },
  {
   "cell_type": "code",
   "execution_count": null,
   "metadata": {},
   "outputs": [],
   "source": [
    "fn='data.csv'\n",
    "try:\n",
    "        fh = open(fn,'r')\n",
    "except:\n",
    "    fh = open(fn,'w')"
   ]
  },
  {
   "cell_type": "code",
   "execution_count": 33,
   "metadata": {},
   "outputs": [
    {
     "name": "stdout",
     "output_type": "stream",
     "text": [
      "Enter question\n",
      "what\n",
      "['what is the meaning of sixth sense', 'what is the meaning of fear of criticism?', 'what is the meaning of words transmute ?', 'what is the meaning of subconcious find ?', 'what are the six basic fear ?']\n"
     ]
    }
   ],
   "source": [
    "question=input(\"Enter question\\n\")\n",
    "data = pd.read_csv(\"data.csv\",header=None,names=['question','answer'])\n",
    "text = question\n",
    "rtn = re.split('([.!?] *)', text)\n",
    "question = ''.join([i.capitalize() for i in rtn])\n",
    "question=\" \".join(question.split())\n",
    "    #print(question)\n",
    "question=question.lower()\n",
    "#question=\"what is the meaning of sixth sense\"\n",
    "v=data[data['question'].str.contains(question)==True]\n",
    "#for i in range(5):\n",
    "r=v['question'].head()\n",
    "f=list(r)\n",
    "print(f)\n",
    "#v\n",
    "\n"
   ]
  },
  {
   "cell_type": "code",
   "execution_count": 19,
   "metadata": {},
   "outputs": [],
   "source": [
    "question=\"what\"\n",
    "iloc=data[data['question'] == question].index"
   ]
  },
  {
   "cell_type": "code",
   "execution_count": 24,
   "metadata": {},
   "outputs": [],
   "source": [
    "arch = data.loc[v,'answer'].values\n",
    "answer=arch[]"
   ]
  },
  {
   "cell_type": "code",
   "execution_count": 25,
   "metadata": {},
   "outputs": [
    {
     "data": {
      "text/plain": [
       "'The answer is, “doing a thing well never is trouble! And, too, if you have ever been  discouraged,  if  you  have  had  difﬁculties  to  surmount  which  took  the  very  soul  out of you, if you have tried and failed, if you were ever handicapped by illness  or  physical  afﬂiction,  this  story  of  my  son’s  discovery  and  use  of  the  carnegie  formula may prove to be the oasis in the desert of lost hope, for which you have  been searching. What could i do about it?'"
      ]
     },
     "execution_count": 25,
     "metadata": {},
     "output_type": "execute_result"
    }
   ],
   "source": [
    "answer"
   ]
  },
  {
   "cell_type": "code",
   "execution_count": null,
   "metadata": {},
   "outputs": [],
   "source": [
    " "
   ]
  },
  {
   "cell_type": "code",
   "execution_count": null,
   "metadata": {},
   "outputs": [],
   "source": [
    "res=input(\"enter question\")"
   ]
  }
 ],
 "metadata": {
  "kernelspec": {
   "display_name": "Python [conda env:test_env] *",
   "language": "python",
   "name": "conda-env-test_env-py"
  },
  "language_info": {
   "codemirror_mode": {
    "name": "ipython",
    "version": 3
   },
   "file_extension": ".py",
   "mimetype": "text/x-python",
   "name": "python",
   "nbconvert_exporter": "python",
   "pygments_lexer": "ipython3",
   "version": "3.7.3"
  }
 },
 "nbformat": 4,
 "nbformat_minor": 2
}
